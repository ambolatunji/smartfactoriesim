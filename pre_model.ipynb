{
 "cells": [
  {
   "cell_type": "code",
   "execution_count": 4,
   "id": "0ed5c39d",
   "metadata": {},
   "outputs": [],
   "source": [
    "#pip install imblearn torch torchvision torchtext torchdata tensorflow"
   ]
  },
  {
   "cell_type": "code",
   "execution_count": 5,
   "id": "480444e9",
   "metadata": {},
   "outputs": [],
   "source": [
    "#pip install tensorflow-gpu==2.10"
   ]
  },
  {
   "cell_type": "code",
   "execution_count": 6,
   "metadata": {},
   "outputs": [],
   "source": [
    "#pip install numpy==1.24.4"
   ]
  },
  {
   "cell_type": "code",
   "execution_count": 7,
   "id": "2fb96256",
   "metadata": {},
   "outputs": [
    {
     "name": "stdout",
     "output_type": "stream",
     "text": [
      "GPUs available: []\n",
      "Is GPU available? False\n"
     ]
    }
   ],
   "source": [
    "import tensorflow as tf\n",
    "\n",
    "# This will return a list of available GPUs\n",
    "gpus = tf.config.list_physical_devices('GPU')\n",
    "print(\"GPUs available:\", gpus)\n",
    "\n",
    "# Or simply check if at least one GPU is available\n",
    "print(\"Is GPU available?\", len(gpus) > 0)"
   ]
  },
  {
   "cell_type": "code",
   "execution_count": 8,
   "id": "1c7b479d",
   "metadata": {},
   "outputs": [],
   "source": [
    "#pip install torch torchvision torchaudio --index-url https://download.pytorch.org/whl/cu126"
   ]
  },
  {
   "cell_type": "code",
   "execution_count": 9,
   "id": "42f11e72",
   "metadata": {},
   "outputs": [
    {
     "data": {
      "text/plain": [
       "True"
      ]
     },
     "execution_count": 9,
     "metadata": {},
     "output_type": "execute_result"
    }
   ],
   "source": [
    "import torch\n",
    "torch.cuda.is_available()"
   ]
  },
  {
   "cell_type": "code",
   "execution_count": 10,
   "id": "6c9501aa",
   "metadata": {},
   "outputs": [],
   "source": [
    "import pandas as pd\n",
    "import numpy as np\n",
    "import seaborn as sns\n",
    "import matplotlib.pyplot as plt\n",
    "from sklearn.model_selection import train_test_split\n",
    "from sklearn.preprocessing import MinMaxScaler\n",
    "from sklearn.preprocessing import StandardScaler\n",
    "from sklearn.ensemble import RandomForestClassifier\n",
    "from sklearn.metrics import classification_report, confusion_matrix\n",
    "from sklearn.model_selection import GridSearchCV\n",
    "from imblearn.over_sampling import SMOTE\n",
    "import os\n",
    "import sys\n"
   ]
  },
  {
   "cell_type": "code",
   "execution_count": 11,
   "id": "97aa0913",
   "metadata": {},
   "outputs": [
    {
     "data": {
      "application/vnd.microsoft.datawrangler.viewer.v0+json": {
       "columns": [
        {
         "name": "index",
         "rawType": "int64",
         "type": "integer"
        },
        {
         "name": "Timestamp",
         "rawType": "object",
         "type": "string"
        },
        {
         "name": "Day",
         "rawType": "object",
         "type": "string"
        },
        {
         "name": "Row",
         "rawType": "float64",
         "type": "float"
        },
        {
         "name": "Date",
         "rawType": "object",
         "type": "string"
        },
        {
         "name": "Time",
         "rawType": "object",
         "type": "string"
        },
        {
         "name": "1_AIT_001_PV",
         "rawType": "float64",
         "type": "float"
        },
        {
         "name": "1_AIT_002_PV",
         "rawType": "float64",
         "type": "float"
        },
        {
         "name": "1_AIT_003_PV",
         "rawType": "float64",
         "type": "float"
        },
        {
         "name": "1_AIT_004_PV",
         "rawType": "float64",
         "type": "float"
        },
        {
         "name": "1_AIT_005_PV",
         "rawType": "float64",
         "type": "float"
        },
        {
         "name": "1_FIT_001_PV",
         "rawType": "float64",
         "type": "float"
        },
        {
         "name": "1_LS_001_AL",
         "rawType": "float64",
         "type": "float"
        },
        {
         "name": "1_LS_002_AL",
         "rawType": "float64",
         "type": "float"
        },
        {
         "name": "1_LT_001_PV",
         "rawType": "float64",
         "type": "float"
        },
        {
         "name": "1_MV_001_STATUS",
         "rawType": "float64",
         "type": "float"
        },
        {
         "name": "1_MV_002_STATUS",
         "rawType": "float64",
         "type": "float"
        },
        {
         "name": "1_MV_003_STATUS",
         "rawType": "float64",
         "type": "float"
        },
        {
         "name": "1_MV_004_STATUS",
         "rawType": "float64",
         "type": "float"
        },
        {
         "name": "1_P_001_STATUS",
         "rawType": "float64",
         "type": "float"
        },
        {
         "name": "1_P_002_STATUS",
         "rawType": "float64",
         "type": "float"
        },
        {
         "name": "1_P_003_STATUS",
         "rawType": "float64",
         "type": "float"
        },
        {
         "name": "1_P_004_STATUS",
         "rawType": "float64",
         "type": "float"
        },
        {
         "name": "1_P_005_STATUS",
         "rawType": "float64",
         "type": "float"
        },
        {
         "name": "1_P_006_STATUS",
         "rawType": "float64",
         "type": "float"
        },
        {
         "name": "2_DPIT_001_PV",
         "rawType": "float64",
         "type": "float"
        },
        {
         "name": "2_FIC_101_CO",
         "rawType": "float64",
         "type": "float"
        },
        {
         "name": "2_FIC_101_PV",
         "rawType": "float64",
         "type": "float"
        },
        {
         "name": "2_FIC_101_SP",
         "rawType": "float64",
         "type": "float"
        },
        {
         "name": "2_FIC_201_CO",
         "rawType": "float64",
         "type": "float"
        },
        {
         "name": "2_FIC_201_PV",
         "rawType": "float64",
         "type": "float"
        },
        {
         "name": "2_FIC_201_SP",
         "rawType": "float64",
         "type": "float"
        },
        {
         "name": "2_FIC_301_CO",
         "rawType": "float64",
         "type": "float"
        },
        {
         "name": "2_FIC_301_PV",
         "rawType": "float64",
         "type": "float"
        },
        {
         "name": "2_FIC_301_SP",
         "rawType": "float64",
         "type": "float"
        },
        {
         "name": "2_FIC_401_CO",
         "rawType": "float64",
         "type": "float"
        },
        {
         "name": "2_FIC_401_PV",
         "rawType": "float64",
         "type": "float"
        },
        {
         "name": "2_FIC_401_SP",
         "rawType": "float64",
         "type": "float"
        },
        {
         "name": "2_FIC_501_CO",
         "rawType": "float64",
         "type": "float"
        },
        {
         "name": "2_FIC_501_PV",
         "rawType": "float64",
         "type": "float"
        },
        {
         "name": "2_FIC_501_SP",
         "rawType": "float64",
         "type": "float"
        },
        {
         "name": "2_FIC_601_CO",
         "rawType": "float64",
         "type": "float"
        },
        {
         "name": "2_FIC_601_PV",
         "rawType": "float64",
         "type": "float"
        },
        {
         "name": "2_FIC_601_SP",
         "rawType": "float64",
         "type": "float"
        },
        {
         "name": "2_FIT_001_PV",
         "rawType": "float64",
         "type": "float"
        },
        {
         "name": "2_FIT_002_PV",
         "rawType": "float64",
         "type": "float"
        },
        {
         "name": "2_FIT_003_PV",
         "rawType": "float64",
         "type": "float"
        },
        {
         "name": "2_FQ_101_PV",
         "rawType": "float64",
         "type": "float"
        },
        {
         "name": "2_FQ_201_PV",
         "rawType": "float64",
         "type": "float"
        },
        {
         "name": "2_FQ_301_PV",
         "rawType": "float64",
         "type": "float"
        },
        {
         "name": "2_FQ_401_PV",
         "rawType": "float64",
         "type": "float"
        },
        {
         "name": "2_FQ_501_PV",
         "rawType": "float64",
         "type": "float"
        },
        {
         "name": "2_FQ_601_PV",
         "rawType": "float64",
         "type": "float"
        },
        {
         "name": "2_LS_001_AL",
         "rawType": "float64",
         "type": "float"
        },
        {
         "name": "2_LS_002_AL",
         "rawType": "float64",
         "type": "float"
        },
        {
         "name": "2_LS_101_AH",
         "rawType": "float64",
         "type": "float"
        },
        {
         "name": "2_LS_101_AL",
         "rawType": "float64",
         "type": "float"
        },
        {
         "name": "2_LS_201_AH",
         "rawType": "float64",
         "type": "float"
        },
        {
         "name": "2_LS_201_AL",
         "rawType": "float64",
         "type": "float"
        },
        {
         "name": "2_LS_301_AH",
         "rawType": "float64",
         "type": "float"
        },
        {
         "name": "2_LS_301_AL",
         "rawType": "float64",
         "type": "float"
        },
        {
         "name": "2_LS_401_AH",
         "rawType": "float64",
         "type": "float"
        },
        {
         "name": "2_LS_401_AL",
         "rawType": "float64",
         "type": "float"
        },
        {
         "name": "2_LS_501_AH",
         "rawType": "float64",
         "type": "float"
        },
        {
         "name": "2_LS_501_AL",
         "rawType": "float64",
         "type": "float"
        },
        {
         "name": "2_LS_601_AH",
         "rawType": "float64",
         "type": "float"
        },
        {
         "name": "2_LS_601_AL",
         "rawType": "float64",
         "type": "float"
        },
        {
         "name": "2_LT_001_PV",
         "rawType": "float64",
         "type": "float"
        },
        {
         "name": "2_LT_002_PV",
         "rawType": "float64",
         "type": "float"
        },
        {
         "name": "2_MCV_007_CO",
         "rawType": "float64",
         "type": "float"
        },
        {
         "name": "2_MCV_101_CO",
         "rawType": "float64",
         "type": "float"
        },
        {
         "name": "2_MCV_201_CO",
         "rawType": "float64",
         "type": "float"
        },
        {
         "name": "2_MCV_301_CO",
         "rawType": "float64",
         "type": "float"
        },
        {
         "name": "2_MCV_401_CO",
         "rawType": "float64",
         "type": "float"
        },
        {
         "name": "2_MCV_501_CO",
         "rawType": "float64",
         "type": "float"
        },
        {
         "name": "2_MCV_601_CO",
         "rawType": "float64",
         "type": "float"
        },
        {
         "name": "2_MV_001_STATUS",
         "rawType": "float64",
         "type": "float"
        },
        {
         "name": "2_MV_002_STATUS",
         "rawType": "float64",
         "type": "float"
        },
        {
         "name": "2_MV_003_STATUS",
         "rawType": "float64",
         "type": "float"
        },
        {
         "name": "2_MV_004_STATUS",
         "rawType": "float64",
         "type": "float"
        },
        {
         "name": "2_MV_005_STATUS",
         "rawType": "float64",
         "type": "float"
        },
        {
         "name": "2_MV_006_STATUS",
         "rawType": "float64",
         "type": "float"
        },
        {
         "name": "2_MV_009_STATUS",
         "rawType": "float64",
         "type": "float"
        },
        {
         "name": "2_MV_101_STATUS",
         "rawType": "float64",
         "type": "float"
        },
        {
         "name": "2_MV_201_STATUS",
         "rawType": "float64",
         "type": "float"
        },
        {
         "name": "2_MV_301_STATUS",
         "rawType": "float64",
         "type": "float"
        },
        {
         "name": "2_MV_401_STATUS",
         "rawType": "float64",
         "type": "float"
        },
        {
         "name": "2_MV_501_STATUS",
         "rawType": "float64",
         "type": "float"
        },
        {
         "name": "2_MV_601_STATUS",
         "rawType": "float64",
         "type": "float"
        },
        {
         "name": "2_P_001_STATUS",
         "rawType": "float64",
         "type": "float"
        },
        {
         "name": "2_P_002_STATUS",
         "rawType": "float64",
         "type": "float"
        },
        {
         "name": "2_P_003_SPEED",
         "rawType": "float64",
         "type": "float"
        },
        {
         "name": "2_P_003_STATUS",
         "rawType": "float64",
         "type": "float"
        },
        {
         "name": "2_P_004_SPEED",
         "rawType": "float64",
         "type": "float"
        },
        {
         "name": "2_P_004_STATUS",
         "rawType": "float64",
         "type": "float"
        },
        {
         "name": "2_PIC_003_CO",
         "rawType": "float64",
         "type": "float"
        },
        {
         "name": "2_PIC_003_PV",
         "rawType": "float64",
         "type": "float"
        },
        {
         "name": "2_PIC_003_SP",
         "rawType": "float64",
         "type": "float"
        },
        {
         "name": "2_PIT_001_PV",
         "rawType": "float64",
         "type": "float"
        },
        {
         "name": "2_PIT_002_PV",
         "rawType": "float64",
         "type": "float"
        },
        {
         "name": "2_PIT_003_PV",
         "rawType": "float64",
         "type": "float"
        },
        {
         "name": "2_SV_101_STATUS",
         "rawType": "float64",
         "type": "float"
        },
        {
         "name": "2_SV_201_STATUS",
         "rawType": "float64",
         "type": "float"
        },
        {
         "name": "2_SV_301_STATUS",
         "rawType": "float64",
         "type": "float"
        },
        {
         "name": "2_SV_401_STATUS",
         "rawType": "float64",
         "type": "float"
        },
        {
         "name": "2_SV_501_STATUS",
         "rawType": "float64",
         "type": "float"
        },
        {
         "name": "2_SV_601_STATUS",
         "rawType": "float64",
         "type": "float"
        },
        {
         "name": "2A_AIT_001_PV",
         "rawType": "float64",
         "type": "float"
        },
        {
         "name": "2A_AIT_002_PV",
         "rawType": "float64",
         "type": "float"
        },
        {
         "name": "2A_AIT_003_PV",
         "rawType": "float64",
         "type": "float"
        },
        {
         "name": "2A_AIT_004_PV",
         "rawType": "float64",
         "type": "float"
        },
        {
         "name": "2B_AIT_001_PV",
         "rawType": "float64",
         "type": "float"
        },
        {
         "name": "2B_AIT_002_PV",
         "rawType": "float64",
         "type": "float"
        },
        {
         "name": "2B_AIT_003_PV",
         "rawType": "float64",
         "type": "float"
        },
        {
         "name": "2B_AIT_004_PV",
         "rawType": "float64",
         "type": "float"
        },
        {
         "name": "3_AIT_001_PV",
         "rawType": "float64",
         "type": "float"
        },
        {
         "name": "3_AIT_002_PV",
         "rawType": "float64",
         "type": "float"
        },
        {
         "name": "3_AIT_003_PV",
         "rawType": "float64",
         "type": "float"
        },
        {
         "name": "3_AIT_004_PV",
         "rawType": "float64",
         "type": "float"
        },
        {
         "name": "3_AIT_005_PV",
         "rawType": "float64",
         "type": "float"
        },
        {
         "name": "3_FIT_001_PV",
         "rawType": "float64",
         "type": "float"
        },
        {
         "name": "3_LS_001_AL",
         "rawType": "float64",
         "type": "float"
        },
        {
         "name": "3_LT_001_PV",
         "rawType": "float64",
         "type": "float"
        },
        {
         "name": "3_MV_001_STATUS",
         "rawType": "float64",
         "type": "float"
        },
        {
         "name": "3_MV_002_STATUS",
         "rawType": "float64",
         "type": "float"
        },
        {
         "name": "3_MV_003_STATUS",
         "rawType": "float64",
         "type": "float"
        },
        {
         "name": "3_P_001_STATUS",
         "rawType": "float64",
         "type": "float"
        },
        {
         "name": "3_P_002_STATUS",
         "rawType": "float64",
         "type": "float"
        },
        {
         "name": "3_P_003_STATUS",
         "rawType": "float64",
         "type": "float"
        },
        {
         "name": "3_P_004_STATUS",
         "rawType": "float64",
         "type": "float"
        },
        {
         "name": "LEAK_DIFF_PRESSURE",
         "rawType": "float64",
         "type": "float"
        },
        {
         "name": "PLANT_START_STOP_LOG",
         "rawType": "float64",
         "type": "float"
        },
        {
         "name": "TOTAL_CONS_REQUIRED_FLOW",
         "rawType": "float64",
         "type": "float"
        },
        {
         "name": "Attack LABLE (1:No Attack, -1:Attack)",
         "rawType": "int64",
         "type": "integer"
        }
       ],
       "ref": "61bf0cfb-5da7-481f-b3a0-53ec4702c488",
       "rows": [
        [
         "0",
         "2017-10-09 00:00:00",
         "2017-10-09",
         "1.0",
         "10/09/2017",
         "12:00 am",
         "164.21",
         "0.529486",
         "11.9972",
         "482.48",
         "0.331167",
         "0.00127323",
         "0.0",
         "0.0",
         "48.482",
         "1.0",
         "1.0",
         "1.0",
         "1.0",
         "1.0",
         "1.0",
         "1.0",
         "1.0",
         "1.0",
         "1.0",
         "2538.7",
         "35.6659",
         "0.240392",
         "0.2",
         "68.5648",
         "0.306246",
         "0.1",
         "100.0",
         "0.0465504",
         "0.1",
         "20.0701",
         "0.175445",
         "0.09",
         "100.0",
         "0.0487998",
         "0.11",
         "100.0",
         "0.0511665",
         "0.15",
         "0.0",
         "0.61969",
         "0.0",
         "0.239192",
         "0.310242",
         "0.0465504",
         "0.170598",
         "0.0487998",
         "0.0511665",
         null,
         null,
         "0.0",
         "0.0",
         "0.0",
         "0.0",
         "0.0",
         "0.0",
         "0.0",
         "0.0",
         "0.0",
         "0.0",
         "0.0",
         "0.0",
         "69.8595",
         "78.5906",
         "0.0",
         "0.0",
         "0.0",
         "20.0685",
         "0.0",
         "68.6983",
         "35.6947",
         "1.0",
         "1.0",
         "1.0",
         "2.0",
         "2.0",
         "1.0",
         "2.0",
         "1.0",
         "1.0",
         "2.0",
         "1.0",
         "2.0",
         "2.0",
         null,
         null,
         "-0.0161573",
         "1.0",
         "0.0295743",
         "1.0",
         "50.0",
         "0.0250713",
         "1.0",
         "152.437",
         "89.5817",
         "0.0250713",
         "1.0",
         "1.0",
         "1.0",
         "1.0",
         "1.0",
         "1.0",
         "0.168945",
         "7.81e-41",
         "8.6875",
         "473.89",
         "0.188477",
         "8.96011",
         "8.69146",
         "475.488",
         "0.0",
         "8279.1",
         "11.528",
         "-65.9686",
         "0.755703",
         "0.626306",
         "1.0",
         "64.3306",
         "1.0",
         "1.0",
         "1.0",
         "1.0",
         "1.0",
         "1.0",
         "1.0",
         "62.6226",
         "1.0",
         "0.39",
         "1"
        ],
        [
         "1",
         "2017-10-09 00:00:00",
         "2017-10-09",
         "14425.0",
         "10/09/2017",
         "12:00 am",
         "169.076",
         "0.643471",
         "11.9182",
         "471.703",
         "0.305731",
         "0.00117078",
         "0.0",
         "0.0",
         "56.7117",
         "1.0",
         "1.0",
         "1.0",
         "1.0",
         "1.0",
         "1.0",
         "1.0",
         "1.0",
         "1.0",
         "1.0",
         "2550.6",
         "100.0",
         "0.0172486",
         "0.12",
         "100.0",
         "0.0508338",
         "0.09",
         "16.2009",
         "0.0379719",
         "0.09",
         "100.0",
         "0.0429415",
         "0.11",
         "19.0169",
         "0.0344647",
         "0.12",
         "16.3107",
         "0.0318304",
         "0.09",
         "0.0",
         "0.0",
         "0.0",
         "0.0172486",
         "0.0508338",
         "0.0379719",
         "0.0429415",
         "0.0344647",
         "0.0318304",
         null,
         null,
         "0.0",
         "0.0",
         "0.0",
         "0.0",
         "0.0",
         "0.0",
         "0.0",
         "0.0",
         "0.0",
         "0.0",
         "0.0",
         "0.0",
         "69.2287",
         "72.0219",
         "0.0",
         "16.2816",
         "18.9741",
         "0.0",
         "16.1748",
         "0.0",
         "0.0",
         "1.0",
         "1.0",
         "1.0",
         "2.0",
         "2.0",
         "1.0",
         "2.0",
         "2.0",
         "2.0",
         "1.0",
         "2.0",
         "1.0",
         "1.0",
         null,
         null,
         "-0.0110023",
         "1.0",
         "0.0341721",
         "1.0",
         "50.0",
         "0.0269921",
         "1.0",
         "150.555",
         "90.2714",
         "0.0269921",
         "1.0",
         "1.0",
         "1.0",
         "1.0",
         "1.0",
         "1.0",
         "0.171875",
         "1.96e-41",
         "8.625",
         "479.392",
         "0.191406",
         "9.16147",
         "8.64072",
         "478.734",
         "0.0",
         "8279.1",
         "13.9896",
         "141.891",
         "0.730001",
         "0.672408",
         "1.0",
         "66.694",
         "1.0",
         "1.0",
         "1.0",
         "1.0",
         "1.0",
         "1.0",
         "1.0",
         "60.0771",
         "1.0",
         "0.3",
         "1"
        ],
        [
         "2",
         "2017-10-09 00:00:00",
         "2017-10-09",
         "14424.0",
         "10/09/2017",
         "12:00 am",
         "169.076",
         "0.643471",
         "11.9182",
         "471.703",
         "0.305731",
         "0.00117078",
         "0.0",
         "0.0",
         "56.7117",
         "1.0",
         "1.0",
         "1.0",
         "1.0",
         "1.0",
         "1.0",
         "1.0",
         "1.0",
         "1.0",
         "1.0",
         "2550.6",
         "100.0",
         "0.0172486",
         "0.12",
         "100.0",
         "0.0508338",
         "0.09",
         "16.2009",
         "0.0379719",
         "0.09",
         "100.0",
         "0.0429415",
         "0.11",
         "19.0169",
         "0.0344647",
         "0.12",
         "16.3107",
         "0.0318304",
         "0.09",
         "0.0",
         "0.0",
         "0.0",
         "0.0172486",
         "0.0508338",
         "0.0379719",
         "0.0429415",
         "0.0344647",
         "0.0318304",
         null,
         null,
         "0.0",
         "0.0",
         "0.0",
         "0.0",
         "0.0",
         "0.0",
         "0.0",
         "0.0",
         "0.0",
         "0.0",
         "0.0",
         "0.0",
         "69.2287",
         "72.0219",
         "0.0",
         "16.2816",
         "18.9741",
         "0.0",
         "16.1748",
         "0.0",
         "0.0",
         "1.0",
         "1.0",
         "1.0",
         "2.0",
         "2.0",
         "1.0",
         "2.0",
         "2.0",
         "2.0",
         "1.0",
         "2.0",
         "1.0",
         "1.0",
         null,
         null,
         "-0.0110023",
         "1.0",
         "0.0341721",
         "1.0",
         "50.0",
         "0.0269921",
         "1.0",
         "150.555",
         "90.2714",
         "0.0269921",
         "1.0",
         "1.0",
         "1.0",
         "1.0",
         "1.0",
         "1.0",
         "0.171875",
         "1.96e-41",
         "8.625",
         "479.392",
         "0.191406",
         "9.16147",
         "8.64072",
         "478.734",
         "0.0",
         "8279.1",
         "13.9896",
         "141.891",
         "0.730001",
         "0.672408",
         "1.0",
         "66.694",
         "1.0",
         "1.0",
         "1.0",
         "1.0",
         "1.0",
         "1.0",
         "1.0",
         "60.0771",
         "1.0",
         "0.3",
         "1"
        ],
        [
         "3",
         "2017-10-09 00:00:00",
         "2017-10-09",
         "14423.0",
         "10/09/2017",
         "12:00 am",
         "169.076",
         "0.643471",
         "11.9182",
         "471.703",
         "0.305731",
         "0.00117078",
         "0.0",
         "0.0",
         "56.7117",
         "1.0",
         "1.0",
         "1.0",
         "1.0",
         "1.0",
         "1.0",
         "1.0",
         "1.0",
         "1.0",
         "1.0",
         "2550.6",
         "100.0",
         "0.0172486",
         "0.12",
         "100.0",
         "0.0508338",
         "0.09",
         "16.2009",
         "0.0379719",
         "0.09",
         "100.0",
         "0.0429415",
         "0.11",
         "19.0169",
         "0.0344647",
         "0.12",
         "16.3107",
         "0.0318304",
         "0.09",
         "0.0",
         "0.0",
         "0.0",
         "0.0172486",
         "0.0508338",
         "0.0379719",
         "0.0429415",
         "0.0344647",
         "0.0318304",
         null,
         null,
         "0.0",
         "0.0",
         "0.0",
         "0.0",
         "0.0",
         "0.0",
         "0.0",
         "0.0",
         "0.0",
         "0.0",
         "0.0",
         "0.0",
         "69.2287",
         "72.0219",
         "0.0",
         "16.2816",
         "18.9741",
         "0.0",
         "16.1748",
         "0.0",
         "0.0",
         "1.0",
         "1.0",
         "1.0",
         "2.0",
         "2.0",
         "1.0",
         "2.0",
         "2.0",
         "2.0",
         "1.0",
         "2.0",
         "1.0",
         "1.0",
         null,
         null,
         "-0.0110023",
         "1.0",
         "0.0341721",
         "1.0",
         "50.0",
         "0.0269921",
         "1.0",
         "150.555",
         "90.2714",
         "0.0269921",
         "1.0",
         "1.0",
         "1.0",
         "1.0",
         "1.0",
         "1.0",
         "0.171875",
         "1.5999999999999998e-41",
         "8.625",
         "479.469",
         "0.191406",
         "9.16957",
         "8.62827",
         "478.709",
         "0.0",
         "8279.1",
         "13.9896",
         "141.891",
         "0.730001",
         "0.672408",
         "1.0",
         "66.694",
         "1.0",
         "1.0",
         "1.0",
         "1.0",
         "1.0",
         "1.0",
         "1.0",
         "60.0771",
         "1.0",
         "0.3",
         "1"
        ],
        [
         "4",
         "2017-10-09 00:00:00",
         "2017-10-09",
         "14422.0",
         "10/09/2017",
         "12:00 am",
         "169.076",
         "0.643471",
         "11.9182",
         "471.703",
         "0.305731",
         "0.00117078",
         "0.0",
         "0.0",
         "56.7117",
         "1.0",
         "1.0",
         "1.0",
         "1.0",
         "1.0",
         "1.0",
         "1.0",
         "1.0",
         "1.0",
         "1.0",
         "2550.6",
         "100.0",
         "0.0172486",
         "0.12",
         "100.0",
         "0.0508338",
         "0.09",
         "16.2009",
         "0.0379719",
         "0.09",
         "100.0",
         "0.0429415",
         "0.11",
         "19.0169",
         "0.0344647",
         "0.12",
         "16.3107",
         "0.0318304",
         "0.09",
         "0.0",
         "0.0",
         "0.0",
         "0.0172486",
         "0.0508338",
         "0.0379719",
         "0.0429415",
         "0.0344647",
         "0.0318304",
         null,
         null,
         "0.0",
         "0.0",
         "0.0",
         "0.0",
         "0.0",
         "0.0",
         "0.0",
         "0.0",
         "0.0",
         "0.0",
         "0.0",
         "0.0",
         "69.2287",
         "72.0219",
         "0.0",
         "16.2816",
         "18.9741",
         "0.0",
         "16.1748",
         "0.0",
         "0.0",
         "1.0",
         "1.0",
         "1.0",
         "2.0",
         "2.0",
         "1.0",
         "2.0",
         "2.0",
         "2.0",
         "1.0",
         "2.0",
         "1.0",
         "1.0",
         null,
         null,
         "-0.0110023",
         "1.0",
         "0.0341721",
         "1.0",
         "50.0",
         "0.0269921",
         "1.0",
         "150.555",
         "90.2714",
         "0.0269921",
         "1.0",
         "1.0",
         "1.0",
         "1.0",
         "1.0",
         "1.0",
         "0.171875",
         "1.5999999999999998e-41",
         "8.625",
         "479.469",
         "0.191406",
         "9.16957",
         "8.62827",
         "478.709",
         "0.0",
         "8279.1",
         "13.9896",
         "141.891",
         "0.730001",
         "0.672408",
         "1.0",
         "66.694",
         "1.0",
         "1.0",
         "1.0",
         "1.0",
         "1.0",
         "1.0",
         "1.0",
         "60.0771",
         "1.0",
         "0.3",
         "1"
        ]
       ],
       "shape": {
        "columns": 133,
        "rows": 5
       }
      },
      "text/html": [
       "<div>\n",
       "<style scoped>\n",
       "    .dataframe tbody tr th:only-of-type {\n",
       "        vertical-align: middle;\n",
       "    }\n",
       "\n",
       "    .dataframe tbody tr th {\n",
       "        vertical-align: top;\n",
       "    }\n",
       "\n",
       "    .dataframe thead th {\n",
       "        text-align: right;\n",
       "    }\n",
       "</style>\n",
       "<table border=\"1\" class=\"dataframe\">\n",
       "  <thead>\n",
       "    <tr style=\"text-align: right;\">\n",
       "      <th></th>\n",
       "      <th>Timestamp</th>\n",
       "      <th>Day</th>\n",
       "      <th>Row</th>\n",
       "      <th>Date</th>\n",
       "      <th>Time</th>\n",
       "      <th>1_AIT_001_PV</th>\n",
       "      <th>1_AIT_002_PV</th>\n",
       "      <th>1_AIT_003_PV</th>\n",
       "      <th>1_AIT_004_PV</th>\n",
       "      <th>1_AIT_005_PV</th>\n",
       "      <th>...</th>\n",
       "      <th>3_MV_002_STATUS</th>\n",
       "      <th>3_MV_003_STATUS</th>\n",
       "      <th>3_P_001_STATUS</th>\n",
       "      <th>3_P_002_STATUS</th>\n",
       "      <th>3_P_003_STATUS</th>\n",
       "      <th>3_P_004_STATUS</th>\n",
       "      <th>LEAK_DIFF_PRESSURE</th>\n",
       "      <th>PLANT_START_STOP_LOG</th>\n",
       "      <th>TOTAL_CONS_REQUIRED_FLOW</th>\n",
       "      <th>Attack LABLE (1:No Attack, -1:Attack)</th>\n",
       "    </tr>\n",
       "  </thead>\n",
       "  <tbody>\n",
       "    <tr>\n",
       "      <th>0</th>\n",
       "      <td>2017-10-09 00:00:00</td>\n",
       "      <td>2017-10-09</td>\n",
       "      <td>1.0</td>\n",
       "      <td>10/09/2017</td>\n",
       "      <td>12:00 am</td>\n",
       "      <td>164.210</td>\n",
       "      <td>0.529486</td>\n",
       "      <td>11.9972</td>\n",
       "      <td>482.480</td>\n",
       "      <td>0.331167</td>\n",
       "      <td>...</td>\n",
       "      <td>1.0</td>\n",
       "      <td>1.0</td>\n",
       "      <td>1.0</td>\n",
       "      <td>1.0</td>\n",
       "      <td>1.0</td>\n",
       "      <td>1.0</td>\n",
       "      <td>62.6226</td>\n",
       "      <td>1.0</td>\n",
       "      <td>0.39</td>\n",
       "      <td>1</td>\n",
       "    </tr>\n",
       "    <tr>\n",
       "      <th>1</th>\n",
       "      <td>2017-10-09 00:00:00</td>\n",
       "      <td>2017-10-09</td>\n",
       "      <td>14425.0</td>\n",
       "      <td>10/09/2017</td>\n",
       "      <td>12:00 am</td>\n",
       "      <td>169.076</td>\n",
       "      <td>0.643471</td>\n",
       "      <td>11.9182</td>\n",
       "      <td>471.703</td>\n",
       "      <td>0.305731</td>\n",
       "      <td>...</td>\n",
       "      <td>1.0</td>\n",
       "      <td>1.0</td>\n",
       "      <td>1.0</td>\n",
       "      <td>1.0</td>\n",
       "      <td>1.0</td>\n",
       "      <td>1.0</td>\n",
       "      <td>60.0771</td>\n",
       "      <td>1.0</td>\n",
       "      <td>0.30</td>\n",
       "      <td>1</td>\n",
       "    </tr>\n",
       "    <tr>\n",
       "      <th>2</th>\n",
       "      <td>2017-10-09 00:00:00</td>\n",
       "      <td>2017-10-09</td>\n",
       "      <td>14424.0</td>\n",
       "      <td>10/09/2017</td>\n",
       "      <td>12:00 am</td>\n",
       "      <td>169.076</td>\n",
       "      <td>0.643471</td>\n",
       "      <td>11.9182</td>\n",
       "      <td>471.703</td>\n",
       "      <td>0.305731</td>\n",
       "      <td>...</td>\n",
       "      <td>1.0</td>\n",
       "      <td>1.0</td>\n",
       "      <td>1.0</td>\n",
       "      <td>1.0</td>\n",
       "      <td>1.0</td>\n",
       "      <td>1.0</td>\n",
       "      <td>60.0771</td>\n",
       "      <td>1.0</td>\n",
       "      <td>0.30</td>\n",
       "      <td>1</td>\n",
       "    </tr>\n",
       "    <tr>\n",
       "      <th>3</th>\n",
       "      <td>2017-10-09 00:00:00</td>\n",
       "      <td>2017-10-09</td>\n",
       "      <td>14423.0</td>\n",
       "      <td>10/09/2017</td>\n",
       "      <td>12:00 am</td>\n",
       "      <td>169.076</td>\n",
       "      <td>0.643471</td>\n",
       "      <td>11.9182</td>\n",
       "      <td>471.703</td>\n",
       "      <td>0.305731</td>\n",
       "      <td>...</td>\n",
       "      <td>1.0</td>\n",
       "      <td>1.0</td>\n",
       "      <td>1.0</td>\n",
       "      <td>1.0</td>\n",
       "      <td>1.0</td>\n",
       "      <td>1.0</td>\n",
       "      <td>60.0771</td>\n",
       "      <td>1.0</td>\n",
       "      <td>0.30</td>\n",
       "      <td>1</td>\n",
       "    </tr>\n",
       "    <tr>\n",
       "      <th>4</th>\n",
       "      <td>2017-10-09 00:00:00</td>\n",
       "      <td>2017-10-09</td>\n",
       "      <td>14422.0</td>\n",
       "      <td>10/09/2017</td>\n",
       "      <td>12:00 am</td>\n",
       "      <td>169.076</td>\n",
       "      <td>0.643471</td>\n",
       "      <td>11.9182</td>\n",
       "      <td>471.703</td>\n",
       "      <td>0.305731</td>\n",
       "      <td>...</td>\n",
       "      <td>1.0</td>\n",
       "      <td>1.0</td>\n",
       "      <td>1.0</td>\n",
       "      <td>1.0</td>\n",
       "      <td>1.0</td>\n",
       "      <td>1.0</td>\n",
       "      <td>60.0771</td>\n",
       "      <td>1.0</td>\n",
       "      <td>0.30</td>\n",
       "      <td>1</td>\n",
       "    </tr>\n",
       "  </tbody>\n",
       "</table>\n",
       "<p>5 rows × 133 columns</p>\n",
       "</div>"
      ],
      "text/plain": [
       "             Timestamp         Day      Row        Date      Time  \\\n",
       "0  2017-10-09 00:00:00  2017-10-09      1.0  10/09/2017  12:00 am   \n",
       "1  2017-10-09 00:00:00  2017-10-09  14425.0  10/09/2017  12:00 am   \n",
       "2  2017-10-09 00:00:00  2017-10-09  14424.0  10/09/2017  12:00 am   \n",
       "3  2017-10-09 00:00:00  2017-10-09  14423.0  10/09/2017  12:00 am   \n",
       "4  2017-10-09 00:00:00  2017-10-09  14422.0  10/09/2017  12:00 am   \n",
       "\n",
       "   1_AIT_001_PV  1_AIT_002_PV  1_AIT_003_PV  1_AIT_004_PV  1_AIT_005_PV  ...  \\\n",
       "0       164.210      0.529486       11.9972       482.480      0.331167  ...   \n",
       "1       169.076      0.643471       11.9182       471.703      0.305731  ...   \n",
       "2       169.076      0.643471       11.9182       471.703      0.305731  ...   \n",
       "3       169.076      0.643471       11.9182       471.703      0.305731  ...   \n",
       "4       169.076      0.643471       11.9182       471.703      0.305731  ...   \n",
       "\n",
       "   3_MV_002_STATUS  3_MV_003_STATUS  3_P_001_STATUS  3_P_002_STATUS  \\\n",
       "0              1.0              1.0             1.0             1.0   \n",
       "1              1.0              1.0             1.0             1.0   \n",
       "2              1.0              1.0             1.0             1.0   \n",
       "3              1.0              1.0             1.0             1.0   \n",
       "4              1.0              1.0             1.0             1.0   \n",
       "\n",
       "   3_P_003_STATUS  3_P_004_STATUS  LEAK_DIFF_PRESSURE  PLANT_START_STOP_LOG  \\\n",
       "0             1.0             1.0             62.6226                   1.0   \n",
       "1             1.0             1.0             60.0771                   1.0   \n",
       "2             1.0             1.0             60.0771                   1.0   \n",
       "3             1.0             1.0             60.0771                   1.0   \n",
       "4             1.0             1.0             60.0771                   1.0   \n",
       "\n",
       "   TOTAL_CONS_REQUIRED_FLOW  Attack LABLE (1:No Attack, -1:Attack)  \n",
       "0                      0.39                                      1  \n",
       "1                      0.30                                      1  \n",
       "2                      0.30                                      1  \n",
       "3                      0.30                                      1  \n",
       "4                      0.30                                      1  \n",
       "\n",
       "[5 rows x 133 columns]"
      ]
     },
     "execution_count": 11,
     "metadata": {},
     "output_type": "execute_result"
    }
   ],
   "source": [
    "# Load the datasets\n",
    "wadi_attack_cleaned_path = 'WADI_cleaned_for_modeling.csv'\n",
    "\n",
    "# Read the CSV files into pandas DataFrames\n",
    "df = pd.read_csv(wadi_attack_cleaned_path, header=0)\n",
    "\n",
    "# Display the first few rows of each dataframe to understand the structure of the data\n",
    "df.columns = df.columns.str.strip()\n",
    "df.head()"
   ]
  },
  {
   "cell_type": "code",
   "execution_count": 12,
   "id": "6b5c7daf",
   "metadata": {},
   "outputs": [
    {
     "name": "stdout",
     "output_type": "stream",
     "text": [
      "Detected label column: Attack LABLE (1:No Attack, -1:Attack)\n"
     ]
    },
    {
     "name": "stderr",
     "output_type": "stream",
     "text": [
      "c:\\Users\\israila.dare\\OneDrive - Eko Electricity Distribution PLC\\Documents\\GitHub\\smartfactoriesim\\wadi\\lib\\site-packages\\sklearn\\utils\\_array_api.py:776: RuntimeWarning: All-NaN slice encountered\n",
      "  return xp.asarray(numpy.nanmin(X, axis=axis))\n",
      "c:\\Users\\israila.dare\\OneDrive - Eko Electricity Distribution PLC\\Documents\\GitHub\\smartfactoriesim\\wadi\\lib\\site-packages\\sklearn\\utils\\_array_api.py:793: RuntimeWarning: All-NaN slice encountered\n",
      "  return xp.asarray(numpy.nanmax(X, axis=axis))\n"
     ]
    },
    {
     "name": "stdout",
     "output_type": "stream",
     "text": [
      "Train shape: (138240, 127), Test shape: (34561, 127)\n",
      "Label distribution in train:\n",
      "Attack LABLE (1:No Attack, -1:Attack)\n",
      " 1    130258\n",
      "-1      7982\n",
      "Name: count, dtype: int64\n",
      "Label distribution in test:\n",
      "Attack LABLE (1:No Attack, -1:Attack)\n",
      " 1    32566\n",
      "-1     1995\n",
      "Name: count, dtype: int64\n"
     ]
    }
   ],
   "source": [
    "# Step 2: Identify label column\n",
    "df.columns = df.columns.str.strip()\n",
    "label_col = [col for col in df.columns if 'Attack' in col][0]  # dynamic detection\n",
    "print(f\"Detected label column: {label_col}\")\n",
    "\n",
    "# Step 3: Drop non-feature columns\n",
    "drop_cols = ['Row', 'Date', 'Time', 'Timestamp', label_col]\n",
    "features = df.drop(columns=drop_cols, errors='ignore')\n",
    "features = features.select_dtypes(include=['float64', 'int64'])  # Keep only numeric columns\n",
    "labels = df[label_col]\n",
    "\n",
    "# Step 4: Scale features\n",
    "scaler = MinMaxScaler()\n",
    "X_scaled = scaler.fit_transform(features)\n",
    "\n",
    "# Step 5: Train-test split (80/20), stratify to balance attack/normal\n",
    "X_train, X_test, y_train, y_test = train_test_split(\n",
    "    X_scaled, labels, test_size=0.2, stratify=labels, random_state=42\n",
    ")\n",
    "\n",
    "# Shape summary\n",
    "print(f\"Train shape: {X_train.shape}, Test shape: {X_test.shape}\")\n",
    "print(f\"Label distribution in train:\\n{pd.Series(y_train).value_counts()}\")\n",
    "print(f\"Label distribution in test:\\n{pd.Series(y_test).value_counts()}\")"
   ]
  },
  {
   "cell_type": "markdown",
   "id": "bb172942",
   "metadata": {},
   "source": [
    "# Modelling"
   ]
  },
  {
   "cell_type": "code",
   "execution_count": 13,
   "id": "bf3ffcce",
   "metadata": {},
   "outputs": [
    {
     "name": "stdout",
     "output_type": "stream",
     "text": [
      "📊 Classification Report:\n",
      "              precision    recall  f1-score   support\n",
      "\n",
      "          -1       1.00      1.00      1.00      1995\n",
      "           1       1.00      1.00      1.00     32566\n",
      "\n",
      "    accuracy                           1.00     34561\n",
      "   macro avg       1.00      1.00      1.00     34561\n",
      "weighted avg       1.00      1.00      1.00     34561\n",
      "\n"
     ]
    },
    {
     "data": {
      "image/png": "[encoded data removed]",
      "text/plain": [
       "<Figure size 640x480 with 2 Axes>"
      ]
     },
     "metadata": {},
     "output_type": "display_data"
    },
    {
     "data": {
      "image/png": "[encoded data removed]",
      "text/plain": [
       "<Figure size 1000x500 with 1 Axes>"
      ]
     },
     "metadata": {},
     "output_type": "display_data"
    }
   ],
   "source": [
    "from sklearn.ensemble import RandomForestClassifier\n",
    "from sklearn.metrics import classification_report, confusion_matrix\n",
    "import matplotlib.pyplot as plt\n",
    "import seaborn as sns\n",
    "\n",
    "# Step 1: Train the model\n",
    "rf_model = RandomForestClassifier(n_estimators=100, random_state=42, class_weight='balanced')\n",
    "rf_model.fit(X_train, y_train)\n",
    "\n",
    "# Step 2: Predict\n",
    "y_pred = rf_model.predict(X_test)\n",
    "\n",
    "# Step 3: Evaluate\n",
    "print(\"📊 Classification Report:\")\n",
    "print(classification_report(y_test, y_pred))\n",
    "\n",
    "# Step 4: Confusion Matrix\n",
    "cm = confusion_matrix(y_test, y_pred, labels=[1, -1])\n",
    "sns.heatmap(cm, annot=True, fmt='d', cmap='Blues', xticklabels=['Normal', 'Attack'], yticklabels=['Normal', 'Attack'])\n",
    "plt.title(\"Confusion Matrix - Random Forest\")\n",
    "plt.xlabel(\"Predicted\")\n",
    "plt.ylabel(\"Actual\")\n",
    "plt.tight_layout()\n",
    "plt.show()\n",
    "# Step 5: Feature Importance\n",
    "# Plot top 15 features\n",
    "importances = rf_model.feature_importances_\n",
    "indices = np.argsort(importances)[-15:]\n",
    "\n",
    "plt.figure(figsize=(10, 5))\n",
    "plt.barh(range(len(indices)), importances[indices], align='center')\n",
    "plt.yticks(range(len(indices)), [features.columns[i] for i in indices])\n",
    "plt.xlabel('Feature Importance')\n",
    "plt.title('Top 15 Important Features - Random Forest')\n",
    "plt.tight_layout()\n",
    "plt.show()\n"
   ]
  },
  {
   "cell_type": "code",
   "execution_count": 14,
   "id": "13ccbf37",
   "metadata": {},
   "outputs": [
    {
     "name": "stdout",
     "output_type": "stream",
     "text": [
      "🔹 Baseline Random Forest Performance:\n",
      "              precision    recall  f1-score   support\n",
      "\n",
      "          -1       1.00      1.00      1.00      1995\n",
      "           1       1.00      1.00      1.00     32566\n",
      "\n",
      "    accuracy                           1.00     34561\n",
      "   macro avg       1.00      1.00      1.00     34561\n",
      "weighted avg       1.00      1.00      1.00     34561\n",
      "\n"
     ]
    },
    {
     "data": {
      "image/png": "[encoded data removed]",
      "text/plain": [
       "<Figure size 640x480 with 2 Axes>"
      ]
     },
     "metadata": {},
     "output_type": "display_data"
    },
    {
     "data": {
      "image/png": "[encoded data removed]",
      "text/plain": [
       "<Figure size 1000x500 with 1 Axes>"
      ]
     },
     "metadata": {},
     "output_type": "display_data"
    },
    {
     "name": "stdout",
     "output_type": "stream",
     "text": [
      "Model saved to random_forest_model.pkl\n"
     ]
    }
   ],
   "source": [
    "from sklearn.ensemble import RandomForestClassifier\n",
    "from sklearn.metrics import classification_report, confusion_matrix\n",
    "\n",
    "# Basic model\n",
    "rf_basic = RandomForestClassifier(random_state=42, class_weight='balanced')\n",
    "rf_basic.fit(X_train, y_train)\n",
    "\n",
    "# Predict\n",
    "y_pred_basic = rf_basic.predict(X_test)\n",
    "\n",
    "# Evaluate\n",
    "print(\"🔹 Baseline Random Forest Performance:\")\n",
    "print(classification_report(y_test, y_pred_basic))\n",
    "# confusion Matix\n",
    "cm_basic = confusion_matrix(y_test, y_pred_basic, labels=[1, -1])\n",
    "sns.heatmap(cm_basic, annot=True, fmt='d', cmap='Blues', xticklabels=['Normal', 'Attack'], yticklabels=['Normal', 'Attack'])\n",
    "plt.title(\"Confusion Matrix - Baseline Random Forest\")\n",
    "plt.xlabel(\"Predicted\")\n",
    "plt.ylabel(\"Actual\")\n",
    "plt.tight_layout()\n",
    "plt.show()\n",
    "# Feature Importance\n",
    "importances_basic = rf_basic.feature_importances_\n",
    "indices_basic = np.argsort(importances_basic)[-15:]\n",
    "plt.figure(figsize=(10, 5))\n",
    "plt.barh(range(len(indices_basic)), importances_basic[indices_basic], align='center')\n",
    "plt.yticks(range(len(indices_basic)), [features.columns[i] for i in indices_basic])\n",
    "plt.xlabel('Feature Importance')\n",
    "plt.title('Top 15 Important Features - Baseline Random Forest')\n",
    "plt.tight_layout()\n",
    "plt.show()\n",
    "\n",
    "# Step 6: Save the model\n",
    "\n",
    "import joblib\n",
    "# Save the model to a file\n",
    "model_filename = 'random_forest_model.pkl'\n",
    "joblib.dump(rf_model, model_filename)\n",
    "print(f\"Model saved to {model_filename}\")\n",
    "\n"
   ]
  },
  {
   "cell_type": "code",
   "execution_count": 15,
   "id": "d76c05f1",
   "metadata": {},
   "outputs": [
    {
     "name": "stdout",
     "output_type": "stream",
     "text": [
      "Fitting 2 folds for each of 8 candidates, totalling 16 fits\n",
      "🔹 Tuned Random Forest Performance:\n",
      "Best Params: {'max_depth': None, 'min_samples_split': 2, 'n_estimators': 150}\n",
      "              precision    recall  f1-score   support\n",
      "\n",
      "          -1       1.00      1.00      1.00      1995\n",
      "           1       1.00      1.00      1.00     32566\n",
      "\n",
      "    accuracy                           1.00     34561\n",
      "   macro avg       1.00      1.00      1.00     34561\n",
      "weighted avg       1.00      1.00      1.00     34561\n",
      "\n"
     ]
    },
    {
     "data": {
      "image/png": "[encoded data removed]",
      "text/plain": [
       "<Figure size 640x480 with 2 Axes>"
      ]
     },
     "metadata": {},
     "output_type": "display_data"
    },
    {
     "data": {
      "image/png": "[encoded data removed]",
      "text/plain": [
       "<Figure size 1000x500 with 1 Axes>"
      ]
     },
     "metadata": {},
     "output_type": "display_data"
    },
    {
     "name": "stdout",
     "output_type": "stream",
     "text": [
      "Model saved to tuned_best_random_forest_model.pkl\n"
     ]
    }
   ],
   "source": [
    "from sklearn.model_selection import GridSearchCV\n",
    "\n",
    "# Define hyperparameter grid\n",
    "param_grid = {\n",
    "    'n_estimators': [100, 150],\n",
    "    'max_depth': [10, None],\n",
    "    'min_samples_split': [2, 5]\n",
    "}\n",
    "\n",
    "# Grid Search\n",
    "rf_grid = GridSearchCV(\n",
    "    RandomForestClassifier(random_state=42, class_weight='balanced'),\n",
    "    param_grid,\n",
    "    cv=2, n_jobs=1, verbose=1,\n",
    "    scoring='f1_macro'\n",
    ")\n",
    "rf_grid.fit(X_train, y_train)\n",
    "\n",
    "# Best model\n",
    "best_rf = rf_grid.best_estimator_\n",
    "y_pred_tuned = best_rf.predict(X_test)\n",
    "\n",
    "# Evaluation\n",
    "print(\"🔹 Tuned Random Forest Performance:\")\n",
    "print(\"Best Params:\", rf_grid.best_params_)\n",
    "print(classification_report(y_test, y_pred_tuned))\n",
    "# Confusion Matrix\n",
    "cm_tuned = confusion_matrix(y_test, y_pred_tuned, labels=[1, -1])\n",
    "sns.heatmap(cm_tuned, annot=True, fmt='d', cmap='Blues', xticklabels=['Normal', 'Attack'], yticklabels=['Normal', 'Attack'])\n",
    "plt.title(\"Confusion Matrix - Tuned Random Forest\")\n",
    "plt.xlabel(\"Predicted\")\n",
    "plt.ylabel(\"Actual\")\n",
    "plt.tight_layout()\n",
    "plt.show()\n",
    "# Feature Importance\n",
    "importances_tuned = best_rf.feature_importances_\n",
    "indices_tuned = np.argsort(importances_tuned)[-15:]\n",
    "plt.figure(figsize=(10, 5))\n",
    "plt.barh(range(len(indices_tuned)), importances_tuned[indices_tuned], color='orange', align='center')\n",
    "plt.yticks(range(len(indices_tuned)), [features.columns[i] for i in indices_tuned])\n",
    "plt.xlabel('Feature Importance')\n",
    "plt.title('Top 15 Important Features - Tuned Random Forest')\n",
    "plt.tight_layout()\n",
    "plt.show()\n",
    "\n",
    "# Save the model\n",
    "import joblib\n",
    "model_path = 'tuned_best_random_forest_model.pkl'\n",
    "joblib.dump(best_rf, model_path)\n",
    "print(f\"Model saved to {model_path}\")\n"
   ]
  },
  {
   "cell_type": "code",
   "execution_count": 16,
   "id": "d308ed6f",
   "metadata": {},
   "outputs": [
    {
     "name": "stdout",
     "output_type": "stream",
     "text": [
      "Model saved to tuned_best_random_forest_model.pkl\n"
     ]
    }
   ],
   "source": [
    "# Save the model\n",
    "import joblib\n",
    "model_path = 'tuned_best_random_forest_model.pkl'\n",
    "joblib.dump(best_rf, model_path)\n",
    "print(f\"Model saved to {model_path}\")"
   ]
  },
  {
   "cell_type": "code",
   "execution_count": 17,
   "id": "f81e53cb",
   "metadata": {},
   "outputs": [
    {
     "name": "stdout",
     "output_type": "stream",
     "text": [
      "📊 Accuracy Comparison:\n",
      "Ordinary RF: 0.9996817221723908\n",
      "Tuned RF: 0.9996817221723908\n",
      "oRDINARY rf F1:  0.998539515000934\n",
      "tUNED rf F1:  0.9985402005953479\n"
     ]
    }
   ],
   "source": [
    "from sklearn.metrics import accuracy_score\n",
    "\n",
    "print(\"📊 Accuracy Comparison:\")\n",
    "print(\"Ordinary RF:\", accuracy_score(y_test, y_pred_basic))\n",
    "print(\"Tuned RF:\", accuracy_score(y_test, y_pred_tuned))\n",
    "print(\"oRDINARY rf F1: \", classification_report(y_test, y_pred_basic, output_dict=True)['macro avg']['f1-score'])\n",
    "print(\"tUNED rf F1: \", classification_report(y_test, y_pred_tuned, output_dict=True)['macro avg']['f1-score'])\n"
   ]
  },
  {
   "cell_type": "code",
   "execution_count": 18,
   "id": "a5a49330",
   "metadata": {},
   "outputs": [
    {
     "name": "stdout",
     "output_type": "stream",
     "text": [
      "✅ After cleanup:\n",
      "X_train shape: (138240, 123)\n",
      "Class distribution:\n",
      " Attack LABLE (1:No Attack, -1:Attack)\n",
      " 1    130258\n",
      "-1      7982\n",
      "Name: count, dtype: int64\n"
     ]
    }
   ],
   "source": [
    "# Step 0: Recover original feature names\n",
    "feature_names = features.columns\n",
    "\n",
    "# Step 1: Rebuild X_train with feature names\n",
    "X_train_df = pd.DataFrame(X_train, columns=feature_names)\n",
    "y_train_series = pd.Series(y_train).reset_index(drop=True)\n",
    "\n",
    "# Step 2: Drop columns with too many NaNs (>50%)\n",
    "nan_thresh = 0.5\n",
    "col_nan_ratio = X_train_df.isna().mean()\n",
    "columns_to_drop = col_nan_ratio[col_nan_ratio > nan_thresh].index\n",
    "X_train_filtered = X_train_df.drop(columns=columns_to_drop)\n",
    "\n",
    "# Step 3: Drop rows with any remaining NaNs\n",
    "X_train_clean = X_train_filtered.dropna()\n",
    "y_train_clean = y_train_series.loc[X_train_clean.index]\n",
    "\n",
    "print(\"✅ After cleanup:\")\n",
    "print(\"X_train shape:\", X_train_clean.shape)\n",
    "print(\"Class distribution:\\n\", y_train_clean.value_counts())"
   ]
  },
  {
   "cell_type": "code",
   "execution_count": 19,
   "id": "591dc148",
   "metadata": {},
   "outputs": [
    {
     "name": "stderr",
     "output_type": "stream",
     "text": [
      "c:\\Users\\israila.dare\\OneDrive - Eko Electricity Distribution PLC\\Documents\\GitHub\\smartfactoriesim\\wadi\\lib\\site-packages\\sklearn\\base.py:474: FutureWarning: `BaseEstimator._validate_data` is deprecated in 1.6 and will be removed in 1.7. Use `sklearn.utils.validation.validate_data` instead. This function becomes public and is part of the scikit-learn developer API.\n",
      "  warnings.warn(\n"
     ]
    },
    {
     "name": "stdout",
     "output_type": "stream",
     "text": [
      "✅ After SMOTE:\n",
      "Attack LABLE (1:No Attack, -1:Attack)\n",
      " 1    130258\n",
      "-1     30000\n",
      "Name: count, dtype: int64\n",
      "🔍 NaN values in X_train_smote: 1_AIT_001_PV                0\n",
      "1_AIT_002_PV                0\n",
      "1_AIT_003_PV                0\n",
      "1_AIT_004_PV                0\n",
      "1_AIT_005_PV                0\n",
      "                           ..\n",
      "3_P_003_STATUS              0\n",
      "3_P_004_STATUS              0\n",
      "LEAK_DIFF_PRESSURE          0\n",
      "PLANT_START_STOP_LOG        0\n",
      "TOTAL_CONS_REQUIRED_FLOW    0\n",
      "Length: 123, dtype: int64\n",
      "Shape of X_train_smote: (160258, 123)\n",
      "Shape of y_train_smote: (160258,)\n",
      "🔍 Nulls in X_train_smote: 0\n"
     ]
    }
   ],
   "source": [
    "# Target: 10,000 attack samples (-1)\n",
    "smote = SMOTE(sampling_strategy={-1: 30000}, random_state=42)\n",
    "X_train_smote, y_train_smote = smote.fit_resample(X_train_clean, y_train_clean)\n",
    "\n",
    "print(\"✅ After SMOTE:\")\n",
    "print(pd.Series(y_train_smote).value_counts())\n",
    "# Step 1: Check for NaNs in SMOTE output\n",
    "nan_count = np.isnan(X_train_smote).sum()\n",
    "print(f\"🔍 NaN values in X_train_smote: {nan_count}\")\n",
    "\n",
    "# Step 2: Check shape integrity\n",
    "print(\"Shape of X_train_smote:\", X_train_smote.shape)\n",
    "print(\"Shape of y_train_smote:\", y_train_smote.shape)\n",
    "\n",
    "# Optional: double check for nulls (not just NaNs)\n",
    "print(\"🔍 Nulls in X_train_smote:\", pd.DataFrame(X_train_smote).isnull().sum().sum())"
   ]
  },
  {
   "cell_type": "code",
   "execution_count": 20,
   "id": "01a94caa",
   "metadata": {},
   "outputs": [
    {
     "name": "stdout",
     "output_type": "stream",
     "text": [
      "✅ X_train shape after alignment: (160258, 123)\n",
      "✅ X_test shape after alignment: (7001, 123)\n"
     ]
    }
   ],
   "source": [
    "# Step 1: Wrap X_test in a DataFrame\n",
    "X_test_df = pd.DataFrame(X_test, columns=feature_names)\n",
    "\n",
    "# Step 2: Drop same columns as training\n",
    "X_test_aligned = X_test_df.drop(columns=columns_to_drop, errors='ignore')\n",
    "\n",
    "# Step 3: Drop rows with NaNs\n",
    "X_test_aligned = X_test_aligned.dropna()\n",
    "\n",
    "# Step 4: Rebuild y_test as Series with matching index\n",
    "y_test_series = pd.Series(y_test, index=X_test_df.index)\n",
    "y_test_aligned = y_test_series.loc[X_test_aligned.index]\n",
    "\n",
    "# Step 5: Drop any NaNs from labels (just in case)\n",
    "valid_indices = ~y_test_aligned.isna()\n",
    "X_test_aligned = X_test_aligned.loc[valid_indices]\n",
    "y_test_aligned = y_test_aligned.loc[valid_indices]\n",
    "\n",
    "# Final shape check\n",
    "print(\"✅ X_train shape after alignment:\", X_train_smote.shape)\n",
    "print(\"✅ X_test shape after alignment:\", X_test_aligned.shape)"
   ]
  },
  {
   "cell_type": "code",
   "execution_count": 21,
   "id": "a75eb3ca",
   "metadata": {},
   "outputs": [
    {
     "name": "stdout",
     "output_type": "stream",
     "text": [
      "🔹 Ordinary RF with Custom SMOTE:\n",
      "              precision    recall  f1-score   support\n",
      "\n",
      "        -1.0       0.07      0.06      0.07       401\n",
      "         1.0       0.94      0.95      0.94      6600\n",
      "\n",
      "    accuracy                           0.89      7001\n",
      "   macro avg       0.51      0.50      0.51      7001\n",
      "weighted avg       0.89      0.89      0.89      7001\n",
      "\n"
     ]
    },
    {
     "data": {
      "image/png": "[encoded data removed]",
      "text/plain": [
       "<Figure size 640x480 with 2 Axes>"
      ]
     },
     "metadata": {},
     "output_type": "display_data"
    },
    {
     "data": {
      "image/png": "[encoded data removed]",
      "text/plain": [
       "<Figure size 1000x500 with 1 Axes>"
      ]
     },
     "metadata": {},
     "output_type": "display_data"
    },
    {
     "name": "stdout",
     "output_type": "stream",
     "text": [
      "Model saved to smote_dropna_random_forest_model.pkl\n"
     ]
    }
   ],
   "source": [
    "# Ordinary model\n",
    "rf_smote_basic = RandomForestClassifier(random_state=42, class_weight='balanced')\n",
    "rf_smote_basic.fit(X_train_smote, y_train_smote)\n",
    "\n",
    "# Predict on original test set\n",
    "y_pred_smote_basic = rf_smote_basic.predict(X_test_aligned)\n",
    "\n",
    "# Evaluate\n",
    "print(\"🔹 Ordinary RF with Custom SMOTE:\")\n",
    "print(classification_report(y_test_aligned, y_pred_smote_basic))\n",
    "# Confusion Matrix\n",
    "cm_smote_basic = confusion_matrix(y_test_aligned, y_pred_smote_basic, labels=[1, -1])\n",
    "sns.heatmap(cm_smote_basic, annot=True, fmt='d', cmap='Blues', xticklabels=['Normal', 'Attack'], yticklabels=['Normal', 'Attack'])\n",
    "plt.title(\"Confusion Matrix - Ordinary RF with Custom SMOTE\")\n",
    "plt.xlabel(\"Predicted\")\n",
    "plt.ylabel(\"Actual\")\n",
    "plt.tight_layout()\n",
    "plt.show()\n",
    "# Feature Importance\n",
    "feature_importances_smote_basic = rf_smote_basic.feature_importances_\n",
    "indices_smote_basic = np.argsort(feature_importances_smote_basic)[-15:]\n",
    "plt.figure(figsize=(10, 5))\n",
    "plt.bar(range(len(indices_smote_basic)), feature_importances_smote_basic[indices_smote_basic], color='orange', align='center')\n",
    "plt.yticks(range(len(indices_smote_basic)), X_train_smote.columns[indices_smote_basic])\n",
    "plt.xlabel('Feature Importance')\n",
    "plt.title(\"Feature Importance - Ordinary RF with Custom SMOTE\")\n",
    "plt.tight_layout()\n",
    "plt.show()\n",
    "# Save the model\n",
    "model_path_smote_basic = 'smote_dropna_random_forest_model.pkl'\n",
    "joblib.dump(rf_smote_basic, model_path_smote_basic)\n",
    "print(f\"Model saved to {model_path_smote_basic}\")\n"
   ]
  },
  {
   "cell_type": "code",
   "execution_count": 22,
   "id": "a7d1de4e",
   "metadata": {},
   "outputs": [
    {
     "name": "stdout",
     "output_type": "stream",
     "text": [
      "Fitting 2 folds for each of 8 candidates, totalling 16 fits\n",
      "🔹 Tuned RF with Custom SMOTE:\n",
      "Best Params: {'max_depth': None, 'min_samples_split': 2, 'n_estimators': 100}\n",
      "              precision    recall  f1-score   support\n",
      "\n",
      "        -1.0       0.07      0.06      0.07       401\n",
      "         1.0       0.94      0.95      0.94      6600\n",
      "\n",
      "    accuracy                           0.89      7001\n",
      "   macro avg       0.51      0.50      0.51      7001\n",
      "weighted avg       0.89      0.89      0.89      7001\n",
      "\n",
      "[[  26  375]\n",
      " [ 362 6238]]\n"
     ]
    },
    {
     "data": {
      "image/png": "[encoded data removed]",
      "text/plain": [
       "<Figure size 640x480 with 2 Axes>"
      ]
     },
     "metadata": {},
     "output_type": "display_data"
    },
    {
     "ename": "AttributeError",
     "evalue": "'numpy.ndarray' object has no attribute 'columns'",
     "output_type": "error",
     "traceback": [
      "\u001b[1;31m---------------------------------------------------------------------------\u001b[0m",
      "\u001b[1;31mAttributeError\u001b[0m                            Traceback (most recent call last)",
      "Cell \u001b[1;32mIn[22], line 38\u001b[0m\n\u001b[0;32m     36\u001b[0m \u001b[38;5;66;03m# Feature Importance\u001b[39;00m\n\u001b[0;32m     37\u001b[0m feature_importances_smote_tuned \u001b[38;5;241m=\u001b[39m best_rf_smote\u001b[38;5;241m.\u001b[39mfeature_importances_\n\u001b[1;32m---> 38\u001b[0m plt\u001b[38;5;241m.\u001b[39mbar(\u001b[43mX_train\u001b[49m\u001b[38;5;241;43m.\u001b[39;49m\u001b[43mcolumns\u001b[49m, feature_importances_smote_tuned)\n\u001b[0;32m     39\u001b[0m plt\u001b[38;5;241m.\u001b[39mtitle(\u001b[38;5;124m\"\u001b[39m\u001b[38;5;124mFeature Importances - Tuned RF with Custom SMOTE\u001b[39m\u001b[38;5;124m\"\u001b[39m)\n\u001b[0;32m     40\u001b[0m plt\u001b[38;5;241m.\u001b[39mxlabel(\u001b[38;5;124m\"\u001b[39m\u001b[38;5;124mFeature Importance\u001b[39m\u001b[38;5;124m\"\u001b[39m)\n",
      "\u001b[1;31mAttributeError\u001b[0m: 'numpy.ndarray' object has no attribute 'columns'"
     ]
    }
   ],
   "source": [
    "from sklearn.model_selection import GridSearchCV\n",
    "\n",
    "param_grid = {\n",
    "    'n_estimators': [100, 150],\n",
    "    'max_depth': [10, None],\n",
    "    'min_samples_split': [2, 5]\n",
    "}\n",
    "\n",
    "# Tuned model with GridSearch\n",
    "rf_smote_grid = GridSearchCV(\n",
    "    RandomForestClassifier(random_state=42, class_weight='balanced'),\n",
    "    param_grid,\n",
    "    cv=2,            # Reduce CV folds for memory\n",
    "    n_jobs=-1,\n",
    "    verbose=1,\n",
    "    scoring='f1_macro'\n",
    ")\n",
    "rf_smote_grid.fit(X_train_smote, y_train_smote)\n",
    "\n",
    "# Final model and predictions\n",
    "best_rf_smote = rf_smote_grid.best_estimator_\n",
    "y_pred_smote_tuned = best_rf_smote.predict(X_test_aligned)\n",
    "\n",
    "print(\"🔹 Tuned RF with Custom SMOTE:\")\n",
    "print(\"Best Params:\", rf_smote_grid.best_params_)\n",
    "print(classification_report(y_test_aligned, y_pred_smote_tuned))\n",
    "# Confusion Matrix\n",
    "print(confusion_matrix(y_test_aligned, y_pred_smote_tuned))\n",
    "cm_smote_tuned = confusion_matrix(y_test_aligned, y_pred_smote_tuned, labels=[1, -1])\n",
    "sns.heatmap(cm_smote_tuned, annot=True, fmt='d', cmap='Blues', xticklabels=['Normal', 'Attack'], yticklabels=['Normal', 'Attack'])\n",
    "plt.title(\"Confusion Matrix - Tuned RF with Custom SMOTE\")\n",
    "plt.xlabel(\"Predicted\")\n",
    "plt.ylabel(\"Actual\")\n",
    "plt.tight_layout()\n",
    "plt.show()\n",
    "# Feature Importance\n",
    "feature_importances_smote_tuned = best_rf_smote.feature_importances_\n",
    "plt.bar(X_train.columns, feature_importances_smote_tuned)\n",
    "plt.title(\"Feature Importances - Tuned RF with Custom SMOTE\")\n",
    "plt.xlabel(\"Feature Importance\")\n",
    "plt.ylabel(\"Features\")\n",
    "plt.show()\n",
    "# Save the model\n",
    "model_path_smote_tuned = 'smote_tuneddropna_random_forest_model.pkl'\n",
    "joblib.dump(best_rf_smote, model_path_smote_tuned)\n",
    "print(f\"Model saved to {model_path_smote_tuned}\")"
   ]
  },
  {
   "cell_type": "code",
   "execution_count": 23,
   "id": "08436a37",
   "metadata": {},
   "outputs": [
    {
     "name": "stdout",
     "output_type": "stream",
     "text": [
      "✅ X_test shape after imputation: (7001, 123)\n"
     ]
    }
   ],
   "source": [
    "from sklearn.impute import SimpleImputer\n",
    "\n",
    "# Rebuild X_test DataFrame\n",
    "X_test_df = pd.DataFrame(X_test, columns=feature_names)\n",
    "\n",
    "# Drop columns that were dropped from training\n",
    "X_test_aligned = X_test_df.drop(columns=columns_to_drop, errors='ignore')\n",
    "\n",
    "# Impute missing values using mean\n",
    "imputer = SimpleImputer(strategy='mean')\n",
    "X_test_imputed = imputer.fit_transform(X_test_aligned)\n",
    "\n",
    "# Rebuild aligned y_test\n",
    "y_test_series = pd.Series(y_test, index=X_test_df.index)\n",
    "y_test_aligned = y_test_series.loc[X_test_aligned.index].reset_index(drop=True)\n",
    "# Recheck: remove rows where labels are NaN\n",
    "valid_indices = ~pd.isna(y_test_aligned)\n",
    "\n",
    "# Final clean test set\n",
    "X_test_imputed = X_test_imputed[valid_indices]\n",
    "y_test_final = y_test_aligned[valid_indices]\n",
    "\n",
    "# FINAL SHAPE CHECK\n",
    "print(\"✅ X_test shape after imputation:\", X_test_imputed.shape)"
   ]
  },
  {
   "cell_type": "code",
   "execution_count": 24,
   "id": "c01f6be4",
   "metadata": {},
   "outputs": [
    {
     "name": "stderr",
     "output_type": "stream",
     "text": [
      "c:\\Users\\israila.dare\\OneDrive - Eko Electricity Distribution PLC\\Documents\\GitHub\\smartfactoriesim\\wadi\\lib\\site-packages\\sklearn\\utils\\validation.py:2739: UserWarning: X does not have valid feature names, but RandomForestClassifier was fitted with feature names\n",
      "  warnings.warn(\n"
     ]
    },
    {
     "name": "stdout",
     "output_type": "stream",
     "text": [
      "🔹 Ordinary RF with Custom SMOTE:\n",
      "              precision    recall  f1-score   support\n",
      "\n",
      "        -1.0       0.07      0.06      0.07       401\n",
      "         1.0       0.94      0.95      0.94      6600\n",
      "\n",
      "    accuracy                           0.89      7001\n",
      "   macro avg       0.51      0.50      0.51      7001\n",
      "weighted avg       0.89      0.89      0.89      7001\n",
      "\n"
     ]
    },
    {
     "data": {
      "image/png": "[encoded data removed]",
      "text/plain": [
       "<Figure size 640x480 with 2 Axes>"
      ]
     },
     "metadata": {},
     "output_type": "display_data"
    },
    {
     "data": {
      "image/png": "[encoded data removed]",
      "text/plain": [
       "<Figure size 1000x500 with 1 Axes>"
      ]
     },
     "metadata": {},
     "output_type": "display_data"
    },
    {
     "name": "stdout",
     "output_type": "stream",
     "text": [
      "Model saved to smote_imputed_random_forest_model.pkl\n"
     ]
    }
   ],
   "source": [
    "# Ordinary model\n",
    "rf_smote_basic = RandomForestClassifier(random_state=42, class_weight='balanced')\n",
    "rf_smote_basic.fit(X_train_smote, y_train_smote)\n",
    "\n",
    "# Predict on original test set\n",
    "y_pred_smote_basic = rf_smote_basic.predict(X_test_imputed)\n",
    "\n",
    "# Evaluate\n",
    "print(\"🔹 Ordinary RF with Custom SMOTE:\")\n",
    "print(classification_report(y_test_final, y_pred_smote_basic))\n",
    "# Confusion Matrix\n",
    "cm_smote_basic = confusion_matrix(y_test_final, y_pred_smote_basic, labels=[1, -1])\n",
    "sns.heatmap(cm_smote_basic, annot=True, fmt='d', cmap='Blues', xticklabels=['Normal', 'Attack'], yticklabels=['Normal', 'Attack'])\n",
    "plt.title(\"Confusion Matrix - Ordinary RF with Custom SMOTE\")\n",
    "plt.xlabel(\"Predicted\")\n",
    "plt.ylabel(\"Actual\")\n",
    "plt.tight_layout()\n",
    "plt.show()\n",
    "# Feature Importance\n",
    "feature_importances_smote_basic = rf_smote_basic.feature_importances_\n",
    "indices_smote_basic = np.argsort(feature_importances_smote_basic)[-15:]\n",
    "plt.figure(figsize=(10, 5))\n",
    "plt.barh(range(len(indices_smote_basic)), feature_importances_smote_basic[indices_smote_basic], color='orange', align='center')\n",
    "plt.yticks(range(len(indices_smote_basic)), X_train_smote.columns[indices_smote_basic])\n",
    "plt.xlabel('Feature Importance')\n",
    "plt.title(\"Feature Importance - Ordinary RF with Custom SMOTE\")\n",
    "plt.tight_layout()\n",
    "plt.show()\n",
    "# Save the model\n",
    "model_path_smote_basic = 'smote_imputed_random_forest_model.pkl'\n",
    "joblib.dump(rf_smote_basic, model_path_smote_basic)\n",
    "print(f\"Model saved to {model_path_smote_basic}\")\n"
   ]
  },
  {
   "cell_type": "code",
   "execution_count": 25,
   "id": "8df532bb",
   "metadata": {},
   "outputs": [
    {
     "name": "stdout",
     "output_type": "stream",
     "text": [
      "Fitting 2 folds for each of 8 candidates, totalling 16 fits\n"
     ]
    },
    {
     "name": "stderr",
     "output_type": "stream",
     "text": [
      "c:\\Users\\israila.dare\\OneDrive - Eko Electricity Distribution PLC\\Documents\\GitHub\\smartfactoriesim\\wadi\\lib\\site-packages\\sklearn\\utils\\validation.py:2739: UserWarning: X does not have valid feature names, but RandomForestClassifier was fitted with feature names\n",
      "  warnings.warn(\n"
     ]
    },
    {
     "name": "stdout",
     "output_type": "stream",
     "text": [
      "🔹 Tuned RF with Custom SMOTE:\n",
      "Best Params: {'max_depth': None, 'min_samples_split': 2, 'n_estimators': 100}\n",
      "              precision    recall  f1-score   support\n",
      "\n",
      "        -1.0       0.07      0.06      0.07       401\n",
      "         1.0       0.94      0.95      0.94      6600\n",
      "\n",
      "    accuracy                           0.89      7001\n",
      "   macro avg       0.51      0.50      0.51      7001\n",
      "weighted avg       0.89      0.89      0.89      7001\n",
      "\n",
      "[[  26  375]\n",
      " [ 362 6238]]\n"
     ]
    },
    {
     "data": {
      "image/png": "[encoded data removed]",
      "text/plain": [
       "<Figure size 640x480 with 2 Axes>"
      ]
     },
     "metadata": {},
     "output_type": "display_data"
    },
    {
     "ename": "AttributeError",
     "evalue": "'numpy.ndarray' object has no attribute 'columns'",
     "output_type": "error",
     "traceback": [
      "\u001b[1;31m---------------------------------------------------------------------------\u001b[0m",
      "\u001b[1;31mAttributeError\u001b[0m                            Traceback (most recent call last)",
      "Cell \u001b[1;32mIn[25], line 39\u001b[0m\n\u001b[0;32m     37\u001b[0m feature_importances_smote_tuned \u001b[38;5;241m=\u001b[39m best_rf_smote\u001b[38;5;241m.\u001b[39mfeature_importances_\n\u001b[0;32m     38\u001b[0m plt\u001b[38;5;241m.\u001b[39mfigure(figsize\u001b[38;5;241m=\u001b[39m(\u001b[38;5;241m10\u001b[39m, \u001b[38;5;241m5\u001b[39m))\n\u001b[1;32m---> 39\u001b[0m plt\u001b[38;5;241m.\u001b[39mbarh(\u001b[43mX_train\u001b[49m\u001b[38;5;241;43m.\u001b[39;49m\u001b[43mcolumns\u001b[49m, feature_importances_smote_tuned)\n\u001b[0;32m     40\u001b[0m plt\u001b[38;5;241m.\u001b[39mtitle(\u001b[38;5;124m\"\u001b[39m\u001b[38;5;124mFeature Importances - Tuned RF with Custom SMOTE\u001b[39m\u001b[38;5;124m\"\u001b[39m)\n\u001b[0;32m     41\u001b[0m plt\u001b[38;5;241m.\u001b[39mxlabel(\u001b[38;5;124m\"\u001b[39m\u001b[38;5;124mFeature Importance\u001b[39m\u001b[38;5;124m\"\u001b[39m)\n",
      "\u001b[1;31mAttributeError\u001b[0m: 'numpy.ndarray' object has no attribute 'columns'"
     ]
    },
    {
     "data": {
      "text/plain": [
       "<Figure size 1000x500 with 0 Axes>"
      ]
     },
     "metadata": {},
     "output_type": "display_data"
    }
   ],
   "source": [
    "from sklearn.model_selection import GridSearchCV\n",
    "\n",
    "param_grid = {\n",
    "    'n_estimators': [100, 150],\n",
    "    'max_depth': [10, None],\n",
    "    'min_samples_split': [2, 5]\n",
    "}\n",
    "\n",
    "# Tuned model with GridSearch\n",
    "rf_smote_grid = GridSearchCV(\n",
    "    RandomForestClassifier(random_state=42, class_weight='balanced'),\n",
    "    param_grid,\n",
    "    cv=2,            # Reduce CV folds for memory\n",
    "    n_jobs=-1,\n",
    "    verbose=1,\n",
    "    scoring='f1_macro'\n",
    ")\n",
    "rf_smote_grid.fit(X_train_smote, y_train_smote)\n",
    "\n",
    "# Final model and predictions\n",
    "best_rf_smote = rf_smote_grid.best_estimator_\n",
    "y_pred_smote_tuned = best_rf_smote.predict(X_test_imputed)\n",
    "\n",
    "print(\"🔹 Tuned RF with Custom SMOTE:\")\n",
    "print(\"Best Params:\", rf_smote_grid.best_params_)\n",
    "print(classification_report(y_test_final, y_pred_smote_tuned))\n",
    "# Confusion Matrix\n",
    "print(confusion_matrix(y_test_final, y_pred_smote_tuned))\n",
    "cm_smote_tuned = confusion_matrix(y_test_final, y_pred_smote_tuned, labels=[1, -1])\n",
    "sns.heatmap(cm_smote_tuned, annot=True, fmt='d', cmap='Blues', xticklabels=['Normal', 'Attack'], yticklabels=['Normal', 'Attack'])\n",
    "plt.title(\"Confusion Matrix - Tuned RF with Custom SMOTE\")\n",
    "plt.xlabel(\"Predicted\")\n",
    "plt.ylabel(\"Actual\")\n",
    "plt.tight_layout()\n",
    "plt.show()\n",
    "# Feature Importance\n",
    "feature_importances_smote_tuned = best_rf_smote.feature_importances_\n",
    "plt.figure(figsize=(10, 5))\n",
    "plt.barh(X_train.columns, feature_importances_smote_tuned)\n",
    "plt.title(\"Feature Importances - Tuned RF with Custom SMOTE\")\n",
    "plt.xlabel(\"Feature Importance\")\n",
    "plt.ylabel(\"Features\")\n",
    "plt.show()\n",
    "# Save the model\n",
    "model_path_smote_tuned = 'smote_tunedimputed_random_forest_model.pkl'\n",
    "joblib.dump(best_rf_smote, model_path_smote_tuned)\n",
    "print(f\"Model saved to {model_path_smote_tuned}\")"
   ]
  },
  {
   "cell_type": "code",
   "execution_count": 26,
   "id": "a0359ada",
   "metadata": {},
   "outputs": [
    {
     "ename": "ValueError",
     "evalue": "Found input variables with inconsistent numbers of samples: [34561, 7001]",
     "output_type": "error",
     "traceback": [
      "\u001b[1;31m---------------------------------------------------------------------------\u001b[0m",
      "\u001b[1;31mValueError\u001b[0m                                Traceback (most recent call last)",
      "Cell \u001b[1;32mIn[26], line 22\u001b[0m\n\u001b[0;32m     18\u001b[0m \u001b[38;5;66;03m# Loop through models\u001b[39;00m\n\u001b[0;32m     19\u001b[0m \u001b[38;5;28;01mfor\u001b[39;00m name, preds \u001b[38;5;129;01min\u001b[39;00m model_results\u001b[38;5;241m.\u001b[39mitems():\n\u001b[0;32m     20\u001b[0m     metrics\u001b[38;5;241m.\u001b[39mappend({\n\u001b[0;32m     21\u001b[0m         \u001b[38;5;124m\"\u001b[39m\u001b[38;5;124mModel\u001b[39m\u001b[38;5;124m\"\u001b[39m: name,\n\u001b[1;32m---> 22\u001b[0m         \u001b[38;5;124m\"\u001b[39m\u001b[38;5;124mAccuracy\u001b[39m\u001b[38;5;124m\"\u001b[39m: \u001b[43maccuracy_score\u001b[49m\u001b[43m(\u001b[49m\u001b[43my_test\u001b[49m\u001b[43m,\u001b[49m\u001b[43m \u001b[49m\u001b[43mpreds\u001b[49m\u001b[43m)\u001b[49m,\n\u001b[0;32m     23\u001b[0m         \u001b[38;5;124m\"\u001b[39m\u001b[38;5;124mPrecision\u001b[39m\u001b[38;5;124m\"\u001b[39m: precision_score(y_test, preds, pos_label\u001b[38;5;241m=\u001b[39m\u001b[38;5;241m-\u001b[39m\u001b[38;5;241m1\u001b[39m),\n\u001b[0;32m     24\u001b[0m         \u001b[38;5;124m\"\u001b[39m\u001b[38;5;124mRecall\u001b[39m\u001b[38;5;124m\"\u001b[39m: recall_score(y_test, preds, pos_label\u001b[38;5;241m=\u001b[39m\u001b[38;5;241m-\u001b[39m\u001b[38;5;241m1\u001b[39m),\n\u001b[0;32m     25\u001b[0m         \u001b[38;5;124m\"\u001b[39m\u001b[38;5;124mF1 Score\u001b[39m\u001b[38;5;124m\"\u001b[39m: f1_score(y_test, preds, pos_label\u001b[38;5;241m=\u001b[39m\u001b[38;5;241m-\u001b[39m\u001b[38;5;241m1\u001b[39m),\n\u001b[0;32m     26\u001b[0m         \u001b[38;5;124m\"\u001b[39m\u001b[38;5;124mAUC\u001b[39m\u001b[38;5;124m\"\u001b[39m: roc_auc_score((y_test \u001b[38;5;241m==\u001b[39m \u001b[38;5;241m-\u001b[39m\u001b[38;5;241m1\u001b[39m)\u001b[38;5;241m.\u001b[39mastype(\u001b[38;5;28mint\u001b[39m), (preds \u001b[38;5;241m==\u001b[39m \u001b[38;5;241m-\u001b[39m\u001b[38;5;241m1\u001b[39m)\u001b[38;5;241m.\u001b[39mastype(\u001b[38;5;28mint\u001b[39m)),\n\u001b[0;32m     27\u001b[0m         \u001b[38;5;124m\"\u001b[39m\u001b[38;5;124mMSE\u001b[39m\u001b[38;5;124m\"\u001b[39m: mean_squared_error(y_test, preds)\n\u001b[0;32m     28\u001b[0m     })\n\u001b[0;32m     30\u001b[0m \u001b[38;5;66;03m# Create summary DataFrame\u001b[39;00m\n\u001b[0;32m     31\u001b[0m summary_df \u001b[38;5;241m=\u001b[39m pd\u001b[38;5;241m.\u001b[39mDataFrame(metrics)\u001b[38;5;241m.\u001b[39mset_index(\u001b[38;5;124m\"\u001b[39m\u001b[38;5;124mModel\u001b[39m\u001b[38;5;124m\"\u001b[39m)\n",
      "File \u001b[1;32mc:\\Users\\israila.dare\\OneDrive - Eko Electricity Distribution PLC\\Documents\\GitHub\\smartfactoriesim\\wadi\\lib\\site-packages\\sklearn\\utils\\_param_validation.py:216\u001b[0m, in \u001b[0;36mvalidate_params.<locals>.decorator.<locals>.wrapper\u001b[1;34m(*args, **kwargs)\u001b[0m\n\u001b[0;32m    210\u001b[0m \u001b[38;5;28;01mtry\u001b[39;00m:\n\u001b[0;32m    211\u001b[0m     \u001b[38;5;28;01mwith\u001b[39;00m config_context(\n\u001b[0;32m    212\u001b[0m         skip_parameter_validation\u001b[38;5;241m=\u001b[39m(\n\u001b[0;32m    213\u001b[0m             prefer_skip_nested_validation \u001b[38;5;129;01mor\u001b[39;00m global_skip_validation\n\u001b[0;32m    214\u001b[0m         )\n\u001b[0;32m    215\u001b[0m     ):\n\u001b[1;32m--> 216\u001b[0m         \u001b[38;5;28;01mreturn\u001b[39;00m func(\u001b[38;5;241m*\u001b[39margs, \u001b[38;5;241m*\u001b[39m\u001b[38;5;241m*\u001b[39mkwargs)\n\u001b[0;32m    217\u001b[0m \u001b[38;5;28;01mexcept\u001b[39;00m InvalidParameterError \u001b[38;5;28;01mas\u001b[39;00m e:\n\u001b[0;32m    218\u001b[0m     \u001b[38;5;66;03m# When the function is just a wrapper around an estimator, we allow\u001b[39;00m\n\u001b[0;32m    219\u001b[0m     \u001b[38;5;66;03m# the function to delegate validation to the estimator, but we replace\u001b[39;00m\n\u001b[0;32m    220\u001b[0m     \u001b[38;5;66;03m# the name of the estimator by the name of the function in the error\u001b[39;00m\n\u001b[0;32m    221\u001b[0m     \u001b[38;5;66;03m# message to avoid confusion.\u001b[39;00m\n\u001b[0;32m    222\u001b[0m     msg \u001b[38;5;241m=\u001b[39m re\u001b[38;5;241m.\u001b[39msub(\n\u001b[0;32m    223\u001b[0m         \u001b[38;5;124mr\u001b[39m\u001b[38;5;124m\"\u001b[39m\u001b[38;5;124mparameter of \u001b[39m\u001b[38;5;124m\\\u001b[39m\u001b[38;5;124mw+ must be\u001b[39m\u001b[38;5;124m\"\u001b[39m,\n\u001b[0;32m    224\u001b[0m         \u001b[38;5;124mf\u001b[39m\u001b[38;5;124m\"\u001b[39m\u001b[38;5;124mparameter of \u001b[39m\u001b[38;5;132;01m{\u001b[39;00mfunc\u001b[38;5;241m.\u001b[39m\u001b[38;5;18m__qualname__\u001b[39m\u001b[38;5;132;01m}\u001b[39;00m\u001b[38;5;124m must be\u001b[39m\u001b[38;5;124m\"\u001b[39m,\n\u001b[0;32m    225\u001b[0m         \u001b[38;5;28mstr\u001b[39m(e),\n\u001b[0;32m    226\u001b[0m     )\n",
      "File \u001b[1;32mc:\\Users\\israila.dare\\OneDrive - Eko Electricity Distribution PLC\\Documents\\GitHub\\smartfactoriesim\\wadi\\lib\\site-packages\\sklearn\\metrics\\_classification.py:227\u001b[0m, in \u001b[0;36maccuracy_score\u001b[1;34m(y_true, y_pred, normalize, sample_weight)\u001b[0m\n\u001b[0;32m    225\u001b[0m \u001b[38;5;66;03m# Compute accuracy for each possible representation\u001b[39;00m\n\u001b[0;32m    226\u001b[0m y_true, y_pred \u001b[38;5;241m=\u001b[39m attach_unique(y_true, y_pred)\n\u001b[1;32m--> 227\u001b[0m y_type, y_true, y_pred \u001b[38;5;241m=\u001b[39m \u001b[43m_check_targets\u001b[49m\u001b[43m(\u001b[49m\u001b[43my_true\u001b[49m\u001b[43m,\u001b[49m\u001b[43m \u001b[49m\u001b[43my_pred\u001b[49m\u001b[43m)\u001b[49m\n\u001b[0;32m    228\u001b[0m check_consistent_length(y_true, y_pred, sample_weight)\n\u001b[0;32m    230\u001b[0m \u001b[38;5;28;01mif\u001b[39;00m y_type\u001b[38;5;241m.\u001b[39mstartswith(\u001b[38;5;124m\"\u001b[39m\u001b[38;5;124mmultilabel\u001b[39m\u001b[38;5;124m\"\u001b[39m):\n",
      "File \u001b[1;32mc:\\Users\\israila.dare\\OneDrive - Eko Electricity Distribution PLC\\Documents\\GitHub\\smartfactoriesim\\wadi\\lib\\site-packages\\sklearn\\metrics\\_classification.py:98\u001b[0m, in \u001b[0;36m_check_targets\u001b[1;34m(y_true, y_pred)\u001b[0m\n\u001b[0;32m     71\u001b[0m \u001b[38;5;250m\u001b[39m\u001b[38;5;124;03m\"\"\"Check that y_true and y_pred belong to the same classification task.\u001b[39;00m\n\u001b[0;32m     72\u001b[0m \n\u001b[0;32m     73\u001b[0m \u001b[38;5;124;03mThis converts multiclass or binary types to a common shape, and raises a\u001b[39;00m\n\u001b[1;32m   (...)\u001b[0m\n\u001b[0;32m     95\u001b[0m \u001b[38;5;124;03my_pred : array or indicator matrix\u001b[39;00m\n\u001b[0;32m     96\u001b[0m \u001b[38;5;124;03m\"\"\"\u001b[39;00m\n\u001b[0;32m     97\u001b[0m xp, _ \u001b[38;5;241m=\u001b[39m get_namespace(y_true, y_pred)\n\u001b[1;32m---> 98\u001b[0m \u001b[43mcheck_consistent_length\u001b[49m\u001b[43m(\u001b[49m\u001b[43my_true\u001b[49m\u001b[43m,\u001b[49m\u001b[43m \u001b[49m\u001b[43my_pred\u001b[49m\u001b[43m)\u001b[49m\n\u001b[0;32m     99\u001b[0m type_true \u001b[38;5;241m=\u001b[39m type_of_target(y_true, input_name\u001b[38;5;241m=\u001b[39m\u001b[38;5;124m\"\u001b[39m\u001b[38;5;124my_true\u001b[39m\u001b[38;5;124m\"\u001b[39m)\n\u001b[0;32m    100\u001b[0m type_pred \u001b[38;5;241m=\u001b[39m type_of_target(y_pred, input_name\u001b[38;5;241m=\u001b[39m\u001b[38;5;124m\"\u001b[39m\u001b[38;5;124my_pred\u001b[39m\u001b[38;5;124m\"\u001b[39m)\n",
      "File \u001b[1;32mc:\\Users\\israila.dare\\OneDrive - Eko Electricity Distribution PLC\\Documents\\GitHub\\smartfactoriesim\\wadi\\lib\\site-packages\\sklearn\\utils\\validation.py:475\u001b[0m, in \u001b[0;36mcheck_consistent_length\u001b[1;34m(*arrays)\u001b[0m\n\u001b[0;32m    473\u001b[0m uniques \u001b[38;5;241m=\u001b[39m np\u001b[38;5;241m.\u001b[39munique(lengths)\n\u001b[0;32m    474\u001b[0m \u001b[38;5;28;01mif\u001b[39;00m \u001b[38;5;28mlen\u001b[39m(uniques) \u001b[38;5;241m>\u001b[39m \u001b[38;5;241m1\u001b[39m:\n\u001b[1;32m--> 475\u001b[0m     \u001b[38;5;28;01mraise\u001b[39;00m \u001b[38;5;167;01mValueError\u001b[39;00m(\n\u001b[0;32m    476\u001b[0m         \u001b[38;5;124m\"\u001b[39m\u001b[38;5;124mFound input variables with inconsistent numbers of samples: \u001b[39m\u001b[38;5;132;01m%r\u001b[39;00m\u001b[38;5;124m\"\u001b[39m\n\u001b[0;32m    477\u001b[0m         \u001b[38;5;241m%\u001b[39m [\u001b[38;5;28mint\u001b[39m(l) \u001b[38;5;28;01mfor\u001b[39;00m l \u001b[38;5;129;01min\u001b[39;00m lengths]\n\u001b[0;32m    478\u001b[0m     )\n",
      "\u001b[1;31mValueError\u001b[0m: Found input variables with inconsistent numbers of samples: [34561, 7001]"
     ]
    }
   ],
   "source": [
    "from sklearn.metrics import (\n",
    "    accuracy_score, precision_score, recall_score, f1_score,\n",
    "    roc_auc_score, mean_squared_error\n",
    ")\n",
    "import pandas as pd\n",
    "\n",
    "# Collect all predictions\n",
    "model_results = {\n",
    "    \"Ordinary RF\": y_pred_basic,\n",
    "    \"Tuned RF\": y_pred_tuned,\n",
    "    \"Ordinary RF + SMOTE\": y_pred_smote_basic,\n",
    "    \"Tuned RF + SMOTE\": y_pred_smote_tuned\n",
    "}\n",
    "\n",
    "# Prepare performance storage\n",
    "metrics = []\n",
    "\n",
    "# Loop through models\n",
    "for name, preds in model_results.items():\n",
    "    metrics.append({\n",
    "        \"Model\": name,\n",
    "        \"Accuracy\": accuracy_score(y_test, preds),\n",
    "        \"Precision\": precision_score(y_test, preds, pos_label=-1),\n",
    "        \"Recall\": recall_score(y_test, preds, pos_label=-1),\n",
    "        \"F1 Score\": f1_score(y_test, preds, pos_label=-1),\n",
    "        \"AUC\": roc_auc_score((y_test == -1).astype(int), (preds == -1).astype(int)),\n",
    "        \"MSE\": mean_squared_error(y_test, preds)\n",
    "    })\n",
    "\n",
    "# Create summary DataFrame\n",
    "summary_df = pd.DataFrame(metrics).set_index(\"Model\")\n",
    "summary_df = summary_df.round(4)\n",
    "\n",
    "# Display\n",
    "print(\"📊 Model Performance Summary:\")\n",
    "print(summary_df)\n",
    "# Save summary to CSV\n",
    "summary_csv_path = 'model_performance_summary.csv'\n",
    "summary_df.to_csv(summary_csv_path)\n",
    "print(f\"Model performance summary saved to {summary_csv_path}\")"
   ]
  },
  {
   "cell_type": "markdown",
   "id": "d9a3c2e6",
   "metadata": {},
   "source": [
    "# Auto encoder\n",
    "## Train only on normal data (label = 1)\n",
    "\n",
    "### Reconstruct input; high reconstruction error = likely attack\n",
    "\n",
    "### Evaluate using AUC, F1, precision, recall on the test set\n"
   ]
  },
  {
   "cell_type": "code",
   "execution_count": null,
   "id": "0d134ad8",
   "metadata": {},
   "outputs": [],
   "source": [
    "import torch\n",
    "\n",
    "device = torch.device(\"cuda\" if torch.cuda.is_available() else \"cpu\")\n",
    "print(\"🔥 Using device:\", device)\n"
   ]
  }
 ],
 "metadata": {
  "kernelspec": {
   "display_name": "wadi",
   "language": "python",
   "name": "python3"
  },
  "language_info": {
   "codemirror_mode": {
    "name": "ipython",
    "version": 3
   },
   "file_extension": ".py",
   "mimetype": "text/x-python",
   "name": "python",
   "nbconvert_exporter": "python",
   "pygments_lexer": "ipython3",
   "version": "3.9.11"
  }
 },
 "nbformat": 4,
 "nbformat_minor": 5
}
